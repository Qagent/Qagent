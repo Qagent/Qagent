{
  "cells": [
    {
      "cell_type": "markdown",
      "metadata": {
        "id": "view-in-github",
        "colab_type": "text"
      },
      "source": [
        "<a href=\"https://colab.research.google.com/github/Qagent/Qagent/blob/main/dependency_parsing.ipynb\" target=\"_parent\"><img src=\"https://colab.research.google.com/assets/colab-badge.svg\" alt=\"Open In Colab\"/></a>"
      ]
    },
    {
      "cell_type": "markdown",
      "metadata": {
        "id": "Pz0vRGgN4Srr"
      },
      "source": [
        "#Install dependencies"
      ]
    },
    {
      "cell_type": "code",
      "execution_count": null,
      "metadata": {
        "colab": {
          "base_uri": "https://localhost:8080/"
        },
        "id": "tztUNbvaV45P",
        "outputId": "74d28fd2-852b-4611-af61-debdcc7e3bac"
      },
      "outputs": [
        {
          "name": "stdout",
          "output_type": "stream",
          "text": [
            "Python 3.7.13\n"
          ]
        }
      ],
      "source": [
        "!python --version"
      ]
    },
    {
      "cell_type": "code",
      "execution_count": null,
      "metadata": {
        "colab": {
          "base_uri": "https://localhost:8080/"
        },
        "id": "kINcTM6wV42g",
        "outputId": "776336c3-7946-449a-c1e2-2b4dff51f315"
      },
      "outputs": [
        {
          "name": "stdout",
          "output_type": "stream",
          "text": [
            "nvcc: NVIDIA (R) Cuda compiler driver\n",
            "Copyright (c) 2005-2020 NVIDIA Corporation\n",
            "Built on Mon_Oct_12_20:09:46_PDT_2020\n",
            "Cuda compilation tools, release 11.1, V11.1.105\n",
            "Build cuda_11.1.TC455_06.29190527_0\n",
            "/usr/local/cuda/bin/nvcc\n"
          ]
        }
      ],
      "source": [
        "!nvcc -V && which nvcc"
      ]
    },
    {
      "cell_type": "code",
      "execution_count": null,
      "metadata": {
        "colab": {
          "base_uri": "https://localhost:8080/"
        },
        "id": "bMM_oFPZV4zW",
        "outputId": "67b9607d-d009-47fd-fff9-5b04758c8ecf"
      },
      "outputs": [
        {
          "name": "stdout",
          "output_type": "stream",
          "text": [
            "Fri Jul 15 02:31:51 2022       \n",
            "+-----------------------------------------------------------------------------+\n",
            "| NVIDIA-SMI 460.32.03    Driver Version: 460.32.03    CUDA Version: 11.2     |\n",
            "|-------------------------------+----------------------+----------------------+\n",
            "| GPU  Name        Persistence-M| Bus-Id        Disp.A | Volatile Uncorr. ECC |\n",
            "| Fan  Temp  Perf  Pwr:Usage/Cap|         Memory-Usage | GPU-Util  Compute M. |\n",
            "|                               |                      |               MIG M. |\n",
            "|===============================+======================+======================|\n",
            "|   0  Tesla P100-PCIE...  Off  | 00000000:00:04.0 Off |                    0 |\n",
            "| N/A   36C    P0    27W / 250W |      2MiB / 16280MiB |      0%      Default |\n",
            "|                               |                      |                  N/A |\n",
            "+-------------------------------+----------------------+----------------------+\n",
            "                                                                               \n",
            "+-----------------------------------------------------------------------------+\n",
            "| Processes:                                                                  |\n",
            "|  GPU   GI   CI        PID   Type   Process name                  GPU Memory |\n",
            "|        ID   ID                                                   Usage      |\n",
            "|=============================================================================|\n",
            "|  No running processes found                                                 |\n",
            "+-----------------------------------------------------------------------------+\n"
          ]
        }
      ],
      "source": [
        "# Check GPU\n",
        "!nvidia-smi"
      ]
    },
    {
      "cell_type": "code",
      "execution_count": null,
      "metadata": {
        "id": "0adI0ZwCXiPK"
      },
      "outputs": [],
      "source": [
        "# This get the RAPIDS-Colab install files and test check your GPU.  Run this and the next cell only.\n",
        "# Please read the output of this cell.  If your Colab Instance is not RAPIDS compatible, it will warn you and give you remediation steps.\n",
        "!git clone https://github.com/rapidsai/rapidsai-csp-utils.git\n",
        "!python rapidsai-csp-utils/colab/env-check.py"
      ]
    },
    {
      "cell_type": "code",
      "execution_count": null,
      "metadata": {
        "id": "bXDSYqxBXiLx"
      },
      "outputs": [],
      "source": [
        "# This will update the Colab environment and restart the kernel.  Don't run the next cell until you see the session crash.\n",
        "!bash rapidsai-csp-utils/colab/update_gcc.sh\n",
        "import os\n",
        "os._exit(00)"
      ]
    },
    {
      "cell_type": "code",
      "execution_count": null,
      "metadata": {
        "id": "xwhb3JPqakGt"
      },
      "outputs": [],
      "source": [
        "# This will install CondaColab.  This will restart your kernel one last time.  Run this cell by itself and only run the next cell once you see the session crash.\n",
        "import condacolab\n",
        "condacolab.install()"
      ]
    },
    {
      "cell_type": "code",
      "execution_count": null,
      "metadata": {
        "id": "EIg9Y_dxaj_1"
      },
      "outputs": [],
      "source": [
        "# Installing RAPIDS is now 'python rapidsai-csp-utils/colab/install_rapids.py <release> <packages>'\n",
        "# The <release> options are 'stable' and 'nightly'.  Leaving it blank or adding any other words will default to stable.\n",
        "!python rapidsai-csp-utils/colab/install_rapids.py stable\n",
        "import os\n",
        "os.environ['NUMBAPRO_NVVM'] = '/usr/local/cuda/nvvm/lib64/libnvvm.so'\n",
        "os.environ['NUMBAPRO_LIBDEVICE'] = '/usr/local/cuda/nvvm/libdevice/'\n",
        "os.environ['CONDA_PREFIX'] = '/usr/local'"
      ]
    },
    {
      "cell_type": "code",
      "execution_count": null,
      "metadata": {
        "id": "C1T66SGQaj8r"
      },
      "outputs": [],
      "source": [
        "!python -m pip install \"dask[complete]\"\n",
        "!pip install memory_profiler\n",
        "!pip install fastparquet"
      ]
    },
    {
      "cell_type": "markdown",
      "metadata": {
        "id": "l2vUqo0FZP-z"
      },
      "source": [
        "#Import Libraries\n"
      ]
    },
    {
      "cell_type": "code",
      "execution_count": 5,
      "metadata": {
        "id": "sqS-l4OEq7Xp"
      },
      "outputs": [],
      "source": [
        "%matplotlib inline\n",
        "import warnings\n",
        "import glob\n",
        "warnings.filterwarnings('ignore')\n",
        "import sys\n",
        "import os\n",
        "from importlib import import_module\n",
        "import numpy as np\n",
        "import csv\n",
        "from google.colab import drive\n",
        "import torch as torch\n",
        "from torch import nn\n",
        "from torch.utils.data import Dataset\n",
        "import torch.optim as optim\n",
        "import pandas as pd \n",
        "import gc\n",
        "import itertools as it\n",
        "import collections\n",
        "import re\n",
        "import dask as dask\n",
        "import dask.delayed as chainmap\n",
        "import dask.dataframe as ditable\n",
        "import dask.bag as diarray\n",
        "import matplotlib.pyplot as plt\n",
        "from dask.diagnostics import ProgressBar\n",
        "import io\n",
        "import cupy\n",
        "import json\n",
        "from collections import Counter\n",
        "from memory_profiler import memory_usage\n",
        "import memory_profiler\n",
        "import cudf\n",
        "import cupy as cupy\n",
        "import dask_cudf\n",
        "from dask.distributed import Client\n",
        "from dask_cuda import LocalCUDACluster\n",
        "import dask_cudf\n",
        "import numba\n",
        "from numba import jit , njit"
      ]
    },
    {
      "cell_type": "code",
      "execution_count": 6,
      "metadata": {
        "id": "X-CCs7idsD2T"
      },
      "outputs": [],
      "source": [
        "#%reload_ext memory_profiler"
      ]
    },
    {
      "cell_type": "code",
      "execution_count": 7,
      "metadata": {
        "id": "gqgj9JSkPJrH"
      },
      "outputs": [],
      "source": [
        "pbar = ProgressBar()\n",
        "pbar.register()"
      ]
    },
    {
      "cell_type": "markdown",
      "metadata": {
        "id": "rlsoddjMVnSh"
      },
      "source": [
        "#Create Schedulers"
      ]
    },
    {
      "cell_type": "code",
      "execution_count": 8,
      "metadata": {
        "colab": {
          "base_uri": "https://localhost:8080/",
          "height": 162
        },
        "id": "jUE-uPgf5npL",
        "outputId": "133df584-4b28-4937-bb7f-85e7a3488d14"
      },
      "outputs": [
        {
          "output_type": "execute_result",
          "data": {
            "text/plain": [
              "<Client: 'tcp://127.0.0.1:45777' processes=1 threads=1, memory=51.00 GiB>"
            ],
            "text/html": [
              "<div>\n",
              "    <div style=\"width: 24px; height: 24px; background-color: #e1e1e1; border: 3px solid #9D9D9D; border-radius: 5px; position: absolute;\"> </div>\n",
              "    <div style=\"margin-left: 48px;\">\n",
              "        <h3 style=\"margin-bottom: 0px;\">Client</h3>\n",
              "        <p style=\"color: #9D9D9D; margin-bottom: 0px;\">Client-9d8ec84c-04e2-11ed-b15e-0242ac1c0002</p>\n",
              "        <table style=\"width: 100%; text-align: left;\">\n",
              "\n",
              "        <tr>\n",
              "        \n",
              "            <td style=\"text-align: left;\"><strong>Connection method:</strong> Cluster object</td>\n",
              "            <td style=\"text-align: left;\"><strong>Cluster type:</strong> dask_cuda.LocalCUDACluster</td>\n",
              "        \n",
              "        </tr>\n",
              "\n",
              "        \n",
              "            <tr>\n",
              "                <td style=\"text-align: left;\">\n",
              "                    <strong>Dashboard: </strong> <a href=\"http://127.0.0.1:8787/status\" target=\"_blank\">http://127.0.0.1:8787/status</a>\n",
              "                </td>\n",
              "                <td style=\"text-align: left;\"></td>\n",
              "            </tr>\n",
              "        \n",
              "\n",
              "        </table>\n",
              "\n",
              "        \n",
              "            <details>\n",
              "            <summary style=\"margin-bottom: 20px;\"><h3 style=\"display: inline;\">Cluster Info</h3></summary>\n",
              "            <div class=\"jp-RenderedHTMLCommon jp-RenderedHTML jp-mod-trusted jp-OutputArea-output\">\n",
              "    <div style=\"width: 24px; height: 24px; background-color: #e1e1e1; border: 3px solid #9D9D9D; border-radius: 5px; position: absolute;\">\n",
              "    </div>\n",
              "    <div style=\"margin-left: 48px;\">\n",
              "        <h3 style=\"margin-bottom: 0px; margin-top: 0px;\">LocalCUDACluster</h3>\n",
              "        <p style=\"color: #9D9D9D; margin-bottom: 0px;\">5829a43c</p>\n",
              "        <table style=\"width: 100%; text-align: left;\">\n",
              "            <tr>\n",
              "                <td style=\"text-align: left;\">\n",
              "                    <strong>Dashboard:</strong> <a href=\"http://127.0.0.1:8787/status\" target=\"_blank\">http://127.0.0.1:8787/status</a>\n",
              "                </td>\n",
              "                <td style=\"text-align: left;\">\n",
              "                    <strong>Workers:</strong> 1\n",
              "                </td>\n",
              "            </tr>\n",
              "            <tr>\n",
              "                <td style=\"text-align: left;\">\n",
              "                    <strong>Total threads:</strong> 1\n",
              "                </td>\n",
              "                <td style=\"text-align: left;\">\n",
              "                    <strong>Total memory:</strong> 51.00 GiB\n",
              "                </td>\n",
              "            </tr>\n",
              "            \n",
              "            <tr>\n",
              "    <td style=\"text-align: left;\"><strong>Status:</strong> running</td>\n",
              "    <td style=\"text-align: left;\"><strong>Using processes:</strong> True</td>\n",
              "</tr>\n",
              "\n",
              "            \n",
              "        </table>\n",
              "\n",
              "        <details>\n",
              "            <summary style=\"margin-bottom: 20px;\">\n",
              "                <h3 style=\"display: inline;\">Scheduler Info</h3>\n",
              "            </summary>\n",
              "\n",
              "            <div style=\"\">\n",
              "    <div>\n",
              "        <div style=\"width: 24px; height: 24px; background-color: #FFF7E5; border: 3px solid #FF6132; border-radius: 5px; position: absolute;\"> </div>\n",
              "        <div style=\"margin-left: 48px;\">\n",
              "            <h3 style=\"margin-bottom: 0px;\">Scheduler</h3>\n",
              "            <p style=\"color: #9D9D9D; margin-bottom: 0px;\">Scheduler-b3191be0-2508-4adf-8455-7c87c6fb8d45</p>\n",
              "            <table style=\"width: 100%; text-align: left;\">\n",
              "                <tr>\n",
              "                    <td style=\"text-align: left;\">\n",
              "                        <strong>Comm:</strong> tcp://127.0.0.1:45777\n",
              "                    </td>\n",
              "                    <td style=\"text-align: left;\">\n",
              "                        <strong>Workers:</strong> 1\n",
              "                    </td>\n",
              "                </tr>\n",
              "                <tr>\n",
              "                    <td style=\"text-align: left;\">\n",
              "                        <strong>Dashboard:</strong> <a href=\"http://127.0.0.1:8787/status\" target=\"_blank\">http://127.0.0.1:8787/status</a>\n",
              "                    </td>\n",
              "                    <td style=\"text-align: left;\">\n",
              "                        <strong>Total threads:</strong> 1\n",
              "                    </td>\n",
              "                </tr>\n",
              "                <tr>\n",
              "                    <td style=\"text-align: left;\">\n",
              "                        <strong>Started:</strong> Just now\n",
              "                    </td>\n",
              "                    <td style=\"text-align: left;\">\n",
              "                        <strong>Total memory:</strong> 51.00 GiB\n",
              "                    </td>\n",
              "                </tr>\n",
              "            </table>\n",
              "        </div>\n",
              "    </div>\n",
              "\n",
              "    <details style=\"margin-left: 48px;\">\n",
              "        <summary style=\"margin-bottom: 20px;\">\n",
              "            <h3 style=\"display: inline;\">Workers</h3>\n",
              "        </summary>\n",
              "\n",
              "        \n",
              "        <div style=\"margin-bottom: 20px;\">\n",
              "            <div style=\"width: 24px; height: 24px; background-color: #DBF5FF; border: 3px solid #4CC9FF; border-radius: 5px; position: absolute;\"> </div>\n",
              "            <div style=\"margin-left: 48px;\">\n",
              "            <details>\n",
              "                <summary>\n",
              "                    <h4 style=\"margin-bottom: 0px; display: inline;\">Worker: 0</h4>\n",
              "                </summary>\n",
              "                <table style=\"width: 100%; text-align: left;\">\n",
              "                    <tr>\n",
              "                        <td style=\"text-align: left;\">\n",
              "                            <strong>Comm: </strong> tcp://127.0.0.1:42981\n",
              "                        </td>\n",
              "                        <td style=\"text-align: left;\">\n",
              "                            <strong>Total threads: </strong> 1\n",
              "                        </td>\n",
              "                    </tr>\n",
              "                    <tr>\n",
              "                        <td style=\"text-align: left;\">\n",
              "                            <strong>Dashboard: </strong> <a href=\"http://127.0.0.1:41285/status\" target=\"_blank\">http://127.0.0.1:41285/status</a>\n",
              "                        </td>\n",
              "                        <td style=\"text-align: left;\">\n",
              "                            <strong>Memory: </strong> 51.00 GiB\n",
              "                        </td>\n",
              "                    </tr>\n",
              "                    <tr>\n",
              "                        <td style=\"text-align: left;\">\n",
              "                            <strong>Nanny: </strong> tcp://127.0.0.1:44169\n",
              "                        </td>\n",
              "                        <td style=\"text-align: left;\"></td>\n",
              "                    </tr>\n",
              "                    <tr>\n",
              "                        <td colspan=\"2\" style=\"text-align: left;\">\n",
              "                            <strong>Local directory: </strong> /content/dask-worker-space/worker-ka_yayim\n",
              "                        </td>\n",
              "                    </tr>\n",
              "\n",
              "                    \n",
              "                    <tr>\n",
              "                        <td style=\"text-align: left;\">\n",
              "                            <strong>GPU: </strong>Tesla V100-SXM2-16GB\n",
              "                        </td>\n",
              "                        <td style=\"text-align: left;\">\n",
              "                            <strong>GPU memory: </strong> 15.78 GiB\n",
              "                        </td>\n",
              "                    </tr>\n",
              "                    \n",
              "\n",
              "                    \n",
              "\n",
              "                </table>\n",
              "            </details>\n",
              "            </div>\n",
              "        </div>\n",
              "        \n",
              "\n",
              "    </details>\n",
              "</div>\n",
              "\n",
              "        </details>\n",
              "    </div>\n",
              "</div>\n",
              "            </details>\n",
              "        \n",
              "\n",
              "    </div>\n",
              "</div>"
            ]
          },
          "metadata": {},
          "execution_count": 8
        }
      ],
      "source": [
        "cluster = LocalCUDACluster() # by default use all GPUs in the node. \n",
        "client1 = Client(cluster)\n",
        "client1"
      ]
    },
    {
      "cell_type": "code",
      "execution_count": 9,
      "metadata": {
        "colab": {
          "base_uri": "https://localhost:8080/",
          "height": 162
        },
        "id": "2fzkCp7gTra5",
        "outputId": "e61c6c2f-1d3e-4097-e5c5-277ef0a0003e"
      },
      "outputs": [
        {
          "output_type": "execute_result",
          "data": {
            "text/plain": [
              "<Client: 'tcp://127.0.0.1:34215' processes=4 threads=8, memory=51.00 GiB>"
            ],
            "text/html": [
              "<div>\n",
              "    <div style=\"width: 24px; height: 24px; background-color: #e1e1e1; border: 3px solid #9D9D9D; border-radius: 5px; position: absolute;\"> </div>\n",
              "    <div style=\"margin-left: 48px;\">\n",
              "        <h3 style=\"margin-bottom: 0px;\">Client</h3>\n",
              "        <p style=\"color: #9D9D9D; margin-bottom: 0px;\">Client-9d96564c-04e2-11ed-b15e-0242ac1c0002</p>\n",
              "        <table style=\"width: 100%; text-align: left;\">\n",
              "\n",
              "        <tr>\n",
              "        \n",
              "            <td style=\"text-align: left;\"><strong>Connection method:</strong> Cluster object</td>\n",
              "            <td style=\"text-align: left;\"><strong>Cluster type:</strong> distributed.LocalCluster</td>\n",
              "        \n",
              "        </tr>\n",
              "\n",
              "        \n",
              "            <tr>\n",
              "                <td style=\"text-align: left;\">\n",
              "                    <strong>Dashboard: </strong> <a href=\"http://127.0.0.1:36137/status\" target=\"_blank\">http://127.0.0.1:36137/status</a>\n",
              "                </td>\n",
              "                <td style=\"text-align: left;\"></td>\n",
              "            </tr>\n",
              "        \n",
              "\n",
              "        </table>\n",
              "\n",
              "        \n",
              "            <details>\n",
              "            <summary style=\"margin-bottom: 20px;\"><h3 style=\"display: inline;\">Cluster Info</h3></summary>\n",
              "            <div class=\"jp-RenderedHTMLCommon jp-RenderedHTML jp-mod-trusted jp-OutputArea-output\">\n",
              "    <div style=\"width: 24px; height: 24px; background-color: #e1e1e1; border: 3px solid #9D9D9D; border-radius: 5px; position: absolute;\">\n",
              "    </div>\n",
              "    <div style=\"margin-left: 48px;\">\n",
              "        <h3 style=\"margin-bottom: 0px; margin-top: 0px;\">LocalCluster</h3>\n",
              "        <p style=\"color: #9D9D9D; margin-bottom: 0px;\">b7a96639</p>\n",
              "        <table style=\"width: 100%; text-align: left;\">\n",
              "            <tr>\n",
              "                <td style=\"text-align: left;\">\n",
              "                    <strong>Dashboard:</strong> <a href=\"http://127.0.0.1:36137/status\" target=\"_blank\">http://127.0.0.1:36137/status</a>\n",
              "                </td>\n",
              "                <td style=\"text-align: left;\">\n",
              "                    <strong>Workers:</strong> 4\n",
              "                </td>\n",
              "            </tr>\n",
              "            <tr>\n",
              "                <td style=\"text-align: left;\">\n",
              "                    <strong>Total threads:</strong> 8\n",
              "                </td>\n",
              "                <td style=\"text-align: left;\">\n",
              "                    <strong>Total memory:</strong> 51.00 GiB\n",
              "                </td>\n",
              "            </tr>\n",
              "            \n",
              "            <tr>\n",
              "    <td style=\"text-align: left;\"><strong>Status:</strong> running</td>\n",
              "    <td style=\"text-align: left;\"><strong>Using processes:</strong> True</td>\n",
              "</tr>\n",
              "\n",
              "            \n",
              "        </table>\n",
              "\n",
              "        <details>\n",
              "            <summary style=\"margin-bottom: 20px;\">\n",
              "                <h3 style=\"display: inline;\">Scheduler Info</h3>\n",
              "            </summary>\n",
              "\n",
              "            <div style=\"\">\n",
              "    <div>\n",
              "        <div style=\"width: 24px; height: 24px; background-color: #FFF7E5; border: 3px solid #FF6132; border-radius: 5px; position: absolute;\"> </div>\n",
              "        <div style=\"margin-left: 48px;\">\n",
              "            <h3 style=\"margin-bottom: 0px;\">Scheduler</h3>\n",
              "            <p style=\"color: #9D9D9D; margin-bottom: 0px;\">Scheduler-7f096b81-5745-4061-9dd9-cae613fe5a1e</p>\n",
              "            <table style=\"width: 100%; text-align: left;\">\n",
              "                <tr>\n",
              "                    <td style=\"text-align: left;\">\n",
              "                        <strong>Comm:</strong> tcp://127.0.0.1:34215\n",
              "                    </td>\n",
              "                    <td style=\"text-align: left;\">\n",
              "                        <strong>Workers:</strong> 4\n",
              "                    </td>\n",
              "                </tr>\n",
              "                <tr>\n",
              "                    <td style=\"text-align: left;\">\n",
              "                        <strong>Dashboard:</strong> <a href=\"http://127.0.0.1:36137/status\" target=\"_blank\">http://127.0.0.1:36137/status</a>\n",
              "                    </td>\n",
              "                    <td style=\"text-align: left;\">\n",
              "                        <strong>Total threads:</strong> 8\n",
              "                    </td>\n",
              "                </tr>\n",
              "                <tr>\n",
              "                    <td style=\"text-align: left;\">\n",
              "                        <strong>Started:</strong> Just now\n",
              "                    </td>\n",
              "                    <td style=\"text-align: left;\">\n",
              "                        <strong>Total memory:</strong> 51.00 GiB\n",
              "                    </td>\n",
              "                </tr>\n",
              "            </table>\n",
              "        </div>\n",
              "    </div>\n",
              "\n",
              "    <details style=\"margin-left: 48px;\">\n",
              "        <summary style=\"margin-bottom: 20px;\">\n",
              "            <h3 style=\"display: inline;\">Workers</h3>\n",
              "        </summary>\n",
              "\n",
              "        \n",
              "        <div style=\"margin-bottom: 20px;\">\n",
              "            <div style=\"width: 24px; height: 24px; background-color: #DBF5FF; border: 3px solid #4CC9FF; border-radius: 5px; position: absolute;\"> </div>\n",
              "            <div style=\"margin-left: 48px;\">\n",
              "            <details>\n",
              "                <summary>\n",
              "                    <h4 style=\"margin-bottom: 0px; display: inline;\">Worker: 0</h4>\n",
              "                </summary>\n",
              "                <table style=\"width: 100%; text-align: left;\">\n",
              "                    <tr>\n",
              "                        <td style=\"text-align: left;\">\n",
              "                            <strong>Comm: </strong> tcp://127.0.0.1:44081\n",
              "                        </td>\n",
              "                        <td style=\"text-align: left;\">\n",
              "                            <strong>Total threads: </strong> 2\n",
              "                        </td>\n",
              "                    </tr>\n",
              "                    <tr>\n",
              "                        <td style=\"text-align: left;\">\n",
              "                            <strong>Dashboard: </strong> <a href=\"http://127.0.0.1:34217/status\" target=\"_blank\">http://127.0.0.1:34217/status</a>\n",
              "                        </td>\n",
              "                        <td style=\"text-align: left;\">\n",
              "                            <strong>Memory: </strong> 12.75 GiB\n",
              "                        </td>\n",
              "                    </tr>\n",
              "                    <tr>\n",
              "                        <td style=\"text-align: left;\">\n",
              "                            <strong>Nanny: </strong> tcp://127.0.0.1:46683\n",
              "                        </td>\n",
              "                        <td style=\"text-align: left;\"></td>\n",
              "                    </tr>\n",
              "                    <tr>\n",
              "                        <td colspan=\"2\" style=\"text-align: left;\">\n",
              "                            <strong>Local directory: </strong> /content/dask-worker-space/worker-q3qmn53j\n",
              "                        </td>\n",
              "                    </tr>\n",
              "\n",
              "                    \n",
              "                    <tr>\n",
              "                        <td style=\"text-align: left;\">\n",
              "                            <strong>GPU: </strong>Tesla V100-SXM2-16GB\n",
              "                        </td>\n",
              "                        <td style=\"text-align: left;\">\n",
              "                            <strong>GPU memory: </strong> 15.78 GiB\n",
              "                        </td>\n",
              "                    </tr>\n",
              "                    \n",
              "\n",
              "                    \n",
              "\n",
              "                </table>\n",
              "            </details>\n",
              "            </div>\n",
              "        </div>\n",
              "        \n",
              "        <div style=\"margin-bottom: 20px;\">\n",
              "            <div style=\"width: 24px; height: 24px; background-color: #DBF5FF; border: 3px solid #4CC9FF; border-radius: 5px; position: absolute;\"> </div>\n",
              "            <div style=\"margin-left: 48px;\">\n",
              "            <details>\n",
              "                <summary>\n",
              "                    <h4 style=\"margin-bottom: 0px; display: inline;\">Worker: 1</h4>\n",
              "                </summary>\n",
              "                <table style=\"width: 100%; text-align: left;\">\n",
              "                    <tr>\n",
              "                        <td style=\"text-align: left;\">\n",
              "                            <strong>Comm: </strong> tcp://127.0.0.1:45821\n",
              "                        </td>\n",
              "                        <td style=\"text-align: left;\">\n",
              "                            <strong>Total threads: </strong> 2\n",
              "                        </td>\n",
              "                    </tr>\n",
              "                    <tr>\n",
              "                        <td style=\"text-align: left;\">\n",
              "                            <strong>Dashboard: </strong> <a href=\"http://127.0.0.1:41745/status\" target=\"_blank\">http://127.0.0.1:41745/status</a>\n",
              "                        </td>\n",
              "                        <td style=\"text-align: left;\">\n",
              "                            <strong>Memory: </strong> 12.75 GiB\n",
              "                        </td>\n",
              "                    </tr>\n",
              "                    <tr>\n",
              "                        <td style=\"text-align: left;\">\n",
              "                            <strong>Nanny: </strong> tcp://127.0.0.1:34725\n",
              "                        </td>\n",
              "                        <td style=\"text-align: left;\"></td>\n",
              "                    </tr>\n",
              "                    <tr>\n",
              "                        <td colspan=\"2\" style=\"text-align: left;\">\n",
              "                            <strong>Local directory: </strong> /content/dask-worker-space/worker-jl5u14o5\n",
              "                        </td>\n",
              "                    </tr>\n",
              "\n",
              "                    \n",
              "                    <tr>\n",
              "                        <td style=\"text-align: left;\">\n",
              "                            <strong>GPU: </strong>Tesla V100-SXM2-16GB\n",
              "                        </td>\n",
              "                        <td style=\"text-align: left;\">\n",
              "                            <strong>GPU memory: </strong> 15.78 GiB\n",
              "                        </td>\n",
              "                    </tr>\n",
              "                    \n",
              "\n",
              "                    \n",
              "\n",
              "                </table>\n",
              "            </details>\n",
              "            </div>\n",
              "        </div>\n",
              "        \n",
              "        <div style=\"margin-bottom: 20px;\">\n",
              "            <div style=\"width: 24px; height: 24px; background-color: #DBF5FF; border: 3px solid #4CC9FF; border-radius: 5px; position: absolute;\"> </div>\n",
              "            <div style=\"margin-left: 48px;\">\n",
              "            <details>\n",
              "                <summary>\n",
              "                    <h4 style=\"margin-bottom: 0px; display: inline;\">Worker: 2</h4>\n",
              "                </summary>\n",
              "                <table style=\"width: 100%; text-align: left;\">\n",
              "                    <tr>\n",
              "                        <td style=\"text-align: left;\">\n",
              "                            <strong>Comm: </strong> tcp://127.0.0.1:46805\n",
              "                        </td>\n",
              "                        <td style=\"text-align: left;\">\n",
              "                            <strong>Total threads: </strong> 2\n",
              "                        </td>\n",
              "                    </tr>\n",
              "                    <tr>\n",
              "                        <td style=\"text-align: left;\">\n",
              "                            <strong>Dashboard: </strong> <a href=\"http://127.0.0.1:37113/status\" target=\"_blank\">http://127.0.0.1:37113/status</a>\n",
              "                        </td>\n",
              "                        <td style=\"text-align: left;\">\n",
              "                            <strong>Memory: </strong> 12.75 GiB\n",
              "                        </td>\n",
              "                    </tr>\n",
              "                    <tr>\n",
              "                        <td style=\"text-align: left;\">\n",
              "                            <strong>Nanny: </strong> tcp://127.0.0.1:35203\n",
              "                        </td>\n",
              "                        <td style=\"text-align: left;\"></td>\n",
              "                    </tr>\n",
              "                    <tr>\n",
              "                        <td colspan=\"2\" style=\"text-align: left;\">\n",
              "                            <strong>Local directory: </strong> /content/dask-worker-space/worker-n0mvndcr\n",
              "                        </td>\n",
              "                    </tr>\n",
              "\n",
              "                    \n",
              "                    <tr>\n",
              "                        <td style=\"text-align: left;\">\n",
              "                            <strong>GPU: </strong>Tesla V100-SXM2-16GB\n",
              "                        </td>\n",
              "                        <td style=\"text-align: left;\">\n",
              "                            <strong>GPU memory: </strong> 15.78 GiB\n",
              "                        </td>\n",
              "                    </tr>\n",
              "                    \n",
              "\n",
              "                    \n",
              "\n",
              "                </table>\n",
              "            </details>\n",
              "            </div>\n",
              "        </div>\n",
              "        \n",
              "        <div style=\"margin-bottom: 20px;\">\n",
              "            <div style=\"width: 24px; height: 24px; background-color: #DBF5FF; border: 3px solid #4CC9FF; border-radius: 5px; position: absolute;\"> </div>\n",
              "            <div style=\"margin-left: 48px;\">\n",
              "            <details>\n",
              "                <summary>\n",
              "                    <h4 style=\"margin-bottom: 0px; display: inline;\">Worker: 3</h4>\n",
              "                </summary>\n",
              "                <table style=\"width: 100%; text-align: left;\">\n",
              "                    <tr>\n",
              "                        <td style=\"text-align: left;\">\n",
              "                            <strong>Comm: </strong> tcp://127.0.0.1:40799\n",
              "                        </td>\n",
              "                        <td style=\"text-align: left;\">\n",
              "                            <strong>Total threads: </strong> 2\n",
              "                        </td>\n",
              "                    </tr>\n",
              "                    <tr>\n",
              "                        <td style=\"text-align: left;\">\n",
              "                            <strong>Dashboard: </strong> <a href=\"http://127.0.0.1:35447/status\" target=\"_blank\">http://127.0.0.1:35447/status</a>\n",
              "                        </td>\n",
              "                        <td style=\"text-align: left;\">\n",
              "                            <strong>Memory: </strong> 12.75 GiB\n",
              "                        </td>\n",
              "                    </tr>\n",
              "                    <tr>\n",
              "                        <td style=\"text-align: left;\">\n",
              "                            <strong>Nanny: </strong> tcp://127.0.0.1:39515\n",
              "                        </td>\n",
              "                        <td style=\"text-align: left;\"></td>\n",
              "                    </tr>\n",
              "                    <tr>\n",
              "                        <td colspan=\"2\" style=\"text-align: left;\">\n",
              "                            <strong>Local directory: </strong> /content/dask-worker-space/worker-wmtspbql\n",
              "                        </td>\n",
              "                    </tr>\n",
              "\n",
              "                    \n",
              "                    <tr>\n",
              "                        <td style=\"text-align: left;\">\n",
              "                            <strong>GPU: </strong>Tesla V100-SXM2-16GB\n",
              "                        </td>\n",
              "                        <td style=\"text-align: left;\">\n",
              "                            <strong>GPU memory: </strong> 15.78 GiB\n",
              "                        </td>\n",
              "                    </tr>\n",
              "                    \n",
              "\n",
              "                    \n",
              "\n",
              "                </table>\n",
              "            </details>\n",
              "            </div>\n",
              "        </div>\n",
              "        \n",
              "\n",
              "    </details>\n",
              "</div>\n",
              "\n",
              "        </details>\n",
              "    </div>\n",
              "</div>\n",
              "            </details>\n",
              "        \n",
              "\n",
              "    </div>\n",
              "</div>"
            ]
          },
          "metadata": {},
          "execution_count": 9
        }
      ],
      "source": [
        "client2 = Client(processes = True)\n",
        "client2"
      ]
    },
    {
      "cell_type": "markdown",
      "metadata": {
        "id": "wiI6svyC4X6t"
      },
      "source": [
        "#Mount Db"
      ]
    },
    {
      "cell_type": "code",
      "execution_count": 10,
      "metadata": {
        "colab": {
          "base_uri": "https://localhost:8080/"
        },
        "id": "OxRI1gWcq9Bl",
        "outputId": "bdaccd5e-7279-4842-8e9c-c634c8db2eec"
      },
      "outputs": [
        {
          "output_type": "stream",
          "name": "stdout",
          "text": [
            "Drive already mounted at /content/drive; to attempt to forcibly remount, call drive.mount(\"/content/drive\", force_remount=True).\n"
          ]
        }
      ],
      "source": [
        "drive.mount('/content/drive')"
      ]
    },
    {
      "cell_type": "markdown",
      "metadata": {
        "id": "UQe-5pgTV0NT"
      },
      "source": [
        "#Load data, clean text and save it to parquet files partitioned on language"
      ]
    },
    {
      "cell_type": "markdown",
      "metadata": {
        "id": "pdULQm-jV2XF"
      },
      "source": [
        "##read_data_class"
      ]
    },
    {
      "cell_type": "code",
      "execution_count": 12,
      "metadata": {
        "id": "moxPwhh4V23t"
      },
      "outputs": [],
      "source": [
        "class read_data:\n",
        "  \n",
        "  def __init__(self,path):\n",
        "    self.path = path\n",
        "  \n",
        "  def to_path(self):  \n",
        "    x = self.path\n",
        "    a = re.split('/',x)\n",
        "    name = re.split('\\.',a[-1])[0]\n",
        "    d = a[:-2]\n",
        "    d = [d for d in d if d != '']\n",
        "    path = '/'+'/'.join(d)+'/'+ 'pre_processed_master' +'/'+name\n",
        "    return path \n",
        "  def read_csv(self):\n",
        "    path = self.path\n",
        "    a = re.split('/',path)\n",
        "    name = re.split('\\.',a[-1])[0]\n",
        "    data = ditable.read_csv(path,sep = 'rows',names = ['content'],header = None,dtype = str,assume_missing = True,engine='python' ,quotechar='\"', on_bad_lines = 'skip', skip_blank_lines = True,quoting = csv.QUOTE_MINIMAL).sample(frac = 0.05) \n",
        "    data = data.dropna(how ='any')\n",
        "    data['language'] = name\n",
        "    def sanitary_check(x):\n",
        "      x = x\n",
        "      x = x.replace('<br>','.')\n",
        "      x = x.replace('<b>',' ')\n",
        "      x = x.replace('</b>',' ')\n",
        "      x = x.replace('</u>',' ')\n",
        "      x = x.replace('</i>',' ')\n",
        "      x = x.replace('<u>',' ')\n",
        "      x = x.replace('<i>',' ')\n",
        "      x = x.replace('<i>',' ')\n",
        "      x = re.sub(r'(\\?){1,}',' ? ',x)\n",
        "      x = re.sub(r'(\\.){1,}',' . ',x) \n",
        "      x = re.sub(r'(\\n){1,}','\\n',x)\n",
        "      x = re.sub(r'(\\|)+','|',x)\n",
        "      x = re.sub(r'(\\!){1,}','!',x)\n",
        "      x = re.sub(r'([\\xa0])+',' ',x)\n",
        "      new = re.sub(r'(,)+',' , ',x) \n",
        "      new = re.sub(r'(\\s)+',' ',new)\n",
        "      new = re.sub(r'(^\\s)+','',new)\n",
        "      x = re.sub(r'(\\s)+',\" \",x)\n",
        "      x = re.sub(r'(\\|)',\" | \",x)\n",
        "      x = re.sub(r'(-)+',\" - \",x)\n",
        "      x = re.sub(r'(\\\"){1,}','',x)\n",
        "      x = re.sub(r'(\\[unkc\\])+',\"[unkc]\",x)\n",
        "      return new\n",
        "    data.content = data.content.apply(sanitary_check,meta=pd.Series(dtype = str))\n",
        "    def len_fil(x):\n",
        "      x = str(x)\n",
        "      if x == None:\n",
        "        return '<NA>'\n",
        "      elif len(x)>75:\n",
        "        return x\n",
        "      else:\n",
        "        return '<NA>'\n",
        "\n",
        "    data.content = data.content.apply(len_fil)\n",
        "    data = data[(data.content != '<br>') & (data.content != '<NA>') & (data.content != None)]  \n",
        "    data = data.map_partitions(cudf.DataFrame.from_pandas)\n",
        "    data['content'] = data.content.astype(str)\n",
        "    to_path = read_data(path).to_path()\n",
        "    to_path_content = to_path+'/'+'content_temp'\n",
        "    data.to_parquet(to_path_content,write_index = False, compute = False).compute(scheduler = 'distributed')\n",
        "    return to_path_content"
      ]
    },
    {
      "cell_type": "markdown",
      "metadata": {
        "id": "S0M-tnpmZ5lY"
      },
      "source": [
        "##load_data"
      ]
    },
    {
      "cell_type": "code",
      "execution_count": 14,
      "metadata": {
        "id": "5sqdWXMuZKlX"
      },
      "outputs": [],
      "source": [
        "class load_data(read_data):\n",
        "  \n",
        "  def __init__(self,path):\n",
        "    self.path = path\n",
        "  \n",
        "  def to_path(self):  \n",
        "    x = self.path\n",
        "    a = re.split('/',x)\n",
        "    name = re.split('\\.',a[-1])[0]\n",
        "    d = a[:-2]\n",
        "    d = [d for d in d if d != '']\n",
        "    path = '/'+'/'.join(d)+'/'+ 'pre_processed_master' +'/'+name\n",
        "    return path \n",
        "  def read_csv(self):\n",
        "    path = self.path\n",
        "    a = re.split('/',path)\n",
        "    name = re.split('\\.',a[-1])[0]\n",
        "    data = ditable.read_csv(path,sep = 'rows',names = ['content'],header = None,dtype = str,assume_missing = True,engine='python' ,quotechar='\"', on_bad_lines = 'skip', skip_blank_lines = True,quoting = csv.QUOTE_MINIMAL) \n",
        "    data = data.dropna(how ='any')\n",
        "    def sanitary_check(x):\n",
        "      x = x\n",
        "      x = x.replace('<br>','.')\n",
        "      x = x.replace('<b>',' ')\n",
        "      x = x.replace('</b>',' ')\n",
        "      x = x.replace('</u>',' ')\n",
        "      x = x.replace('</i>',' ')\n",
        "      x = x.replace('<u>',' ')\n",
        "      x = x.replace('<i>',' ')\n",
        "      x = x.replace('<i>',' ')\n",
        "      x = re.sub(r'(\\?){1,}',' ? ',x)\n",
        "      x = re.sub(r'(\\.){1,}',' . ',x) \n",
        "      x = re.sub(r'(\\n){1,}','\\n',x)\n",
        "      x = re.sub(r'(\\|)+','|',x)\n",
        "      x = re.sub(r'(\\!){1,}','!',x)\n",
        "      x = re.sub(r'([\\xa0])+',' ',x)\n",
        "      new = re.sub(r'(,)+',' , ',x) \n",
        "      new = re.sub(r'(\\s)+',' ',new)\n",
        "      new = re.sub(r'(^\\s)+','',new)\n",
        "      x = re.sub(r'(\\s)+',\" \",x)\n",
        "      x = re.sub(r'(\\|)',\" | \",x)\n",
        "      x = re.sub(r'(-)+',\" - \",x)\n",
        "      x = re.sub(r'(\\\"){1,}','',x)\n",
        "      return new\n",
        "    data.content = data.content.apply(sanitary_check,meta=pd.Series(dtype = str))\n",
        "    def len_fil(x):\n",
        "      x = str(x)\n",
        "      if x == None:\n",
        "        return '<NA>'\n",
        "      elif len(x)>75:\n",
        "        return x\n",
        "      else:\n",
        "        return '<NA>'\n",
        "\n",
        "    data.content = data.content.apply(len_fil)\n",
        "    data = data[(data.content != '<br>') & (data.content != '<NA>') & (data.content != None)]  \n",
        "    data = data.map_partitions(cudf.DataFrame.from_pandas)\n",
        "    data['content'] = data.content.astype(str)\n",
        "    to_path = read_data(path).to_path()\n",
        "    to_path_content = to_path+'/'+'content'\n",
        "    data.to_parquet(to_path_content,write_index = False, compute = False).compute(scheduler = 'distributed')\n",
        "    return to_path_content\n",
        "\n",
        "\n",
        "    \n",
        "    "
      ]
    },
    {
      "cell_type": "markdown",
      "source": [
        "##build bogs"
      ],
      "metadata": {
        "id": "Y00q1qfso6hN"
      }
    },
    {
      "cell_type": "code",
      "source": [
        "class bow(read_data):\n",
        "  def __init__(self, path):\n",
        "      super().__init__(path)\n",
        "      path = self.path  \n",
        "\n",
        "  def bow_run(self):\n",
        "    path = self.path\n",
        "    a = re.split('/',path)\n",
        "    name = re.split('\\.',a[-1])[0]\n",
        "    data_path = read_data(path).to_path() +'/'+'clean_content'\n",
        "    data = ditable.read_parquet(data_path)\n",
        "    to_path = read_data(path).to_path()\n",
        "    to_path = to_path+'/'+'bow'\n",
        "\n",
        "    def bow_create(a1):\n",
        "      a = a1\n",
        "      b = re.split('[\\b\\W\\b\\s]+\\s*',a)\n",
        "      b = [b.lower().strip() for b in b if b != ''and b != ' 'and b != ' \"\" '] \n",
        "      data = b\n",
        "      return data\n",
        "    def doc_set(b1):\n",
        "      b = b1\n",
        "      b = [b.lower().strip() for b in b if b != ''and b != ' 'and b != ' \"\" '] \n",
        "      b = list(set(b))\n",
        "      return b\n",
        "    bow = data.clean_content.apply(bow_create,meta = pd.Series(dtype = str))\n",
        "    bow = bow.to_frame('bow')\n",
        "    bow['doc_set'] = bow.bow.apply(doc_set,meta = pd.Series(dtype = str) )\n",
        "    bow = bow.rename(columns = {'bow':'bag_of_words'})\n",
        "    bow['language'] = name\n",
        "    bow = bow.map_partitions(cudf.from_pandas)\n",
        "    bow.to_parquet(to_path,write_index = False, compute = False).compute(scheduler = 'distributed')\n",
        "    return to_path"
      ],
      "metadata": {
        "id": "YmDXUpmgo5cI"
      },
      "execution_count": 21,
      "outputs": []
    },
    {
      "cell_type": "markdown",
      "metadata": {
        "id": "Qipa97PBYRHv"
      },
      "source": [
        "##word_vocabulary\n",
        "\n"
      ]
    },
    {
      "cell_type": "code",
      "execution_count": 22,
      "metadata": {
        "id": "QmGO9SdrYQuy"
      },
      "outputs": [],
      "source": [
        "class build_vocab(read_data):\n",
        "  def __init__(self,path):                      \n",
        "    super().__init__(path)\n",
        "    self.path = path\n",
        "\n",
        "\n",
        "  def vocab(self):\n",
        "    path = self.path\n",
        "    data_path = bow(path).bow_run()\n",
        "    data = dask_cudf.read_parquet(data_path , write_index = False,columns = 'bag_of_words').explode(column = 'bag_of_words')\n",
        "    data = data.groupby('bag_of_words').bag_of_words.count()\n",
        "    data = data.to_frame('freq')\n",
        "    data = data.reset_index()\n",
        "    data = data.rename(columns ={'bag_of_words':'word','freq':'word_freq'})\n",
        "    return data\n",
        "\n",
        "  def doc_freq(self):\n",
        "    path = self.path\n",
        "    data_path = bow(path).bow_run()\n",
        "    data = dask_cudf.read_parquet(data_path , write_index = False,columns = 'doc_set').explode(column = 'doc_set')\n",
        "    data = data.groupby('doc_set').doc_set.count()\n",
        "    data = data.to_frame('freq')\n",
        "    data = data.reset_index()\n",
        "    data = data.rename(columns ={'doc_set':'word','freq':'doc_freq'})\n",
        "    return data \n",
        "\n",
        "  def master_run(self):\n",
        "    path = self.path\n",
        "    a = re.split('/',path)\n",
        "    name = re.split('\\.',a[-1])[0]\n",
        "    data_words = self.vocab()\n",
        "    data_docs = self.doc_freq()\n",
        "    data = data_words.merge(data_docs,on =['word'],how = 'inner')\n",
        "    data['len'] = data.word.str.len()\n",
        "    data = data.compute(scheduler = 'distributed')\n",
        "    filter = data.len.mode().to_arrow().to_pylist()\n",
        "    filter = filter[0]\n",
        "    keys = data[(data.word_freq == 1)&(data.doc_freq ==1)&(data.len == filter)]\n",
        "    to_path = read_data(path).to_path()\n",
        "    to_path_vocab = to_path+'/'+'vocabulary'\n",
        "    to_path_keys = to_path+'/'+'keys'\n",
        "    data = dask.dataframe.from_pandas(data, npartitions=1)\n",
        "    keys = dask.dataframe.from_pandas(keys, npartitions=1)\n",
        "    keys['language'] = name\n",
        "    data['language'] = name\n",
        "    data.to_parquet(to_path_vocab,write_index = False, compute = False).compute(scheduler = 'distributed')\n",
        "    keys.to_parquet(to_path_keys,write_index = False, compute = False).compute(scheduler = 'distributed')"
      ]
    },
    {
      "cell_type": "markdown",
      "metadata": {
        "id": "sIMovxaozjka"
      },
      "source": [
        "##build_char_vocab"
      ]
    },
    {
      "cell_type": "code",
      "execution_count": 17,
      "metadata": {
        "id": "Vycgee_pHWdN"
      },
      "outputs": [],
      "source": [
        "class build_char(read_data):\n",
        "  def __init__(self,path):                      \n",
        "    super().__init__(path)\n",
        "    self.path = path\n",
        "\n",
        "\n",
        "  def char(self):\n",
        "    path = self.path\n",
        "    data_path = read_data(path).read_csv()\n",
        "    data = dask_cudf.read_parquet(data_path , write_index = False,columns = 'content').explode(column = 'content')\n",
        "    data['content'] = data.content.str.lower()\n",
        "    data['char'] = data.content.str.character_tokenize()\n",
        "    char_freq = data.groupby('char').char.count()\n",
        "    char_table = char_freq.to_frame('freq')\n",
        "    char_table['prob'] = char_table.freq / char_table.freq.sum()\n",
        "    char_table = char_table.compute(scheduler = 'distributed')\n",
        "    char_table = char_table.reset_index(drop = False)\n",
        "    char_table = char_table.rename(columns ={'char':'char','freq':'char_freq','prob':'prob'})\n",
        "    char_table = char_table.sort_values('prob',ascending = True)\n",
        "    return char_table\n",
        "\n",
        "  \n",
        "  def char_policy(self):\n",
        "    data = self.char()\n",
        "    for i in range(10):\n",
        "      data1 = self.char()\n",
        "      data = data.merge(data1,on = ['char'],how = 'outer',suffixes = ('_a','_b'))\n",
        "      data = data.fillna(0)\n",
        "      data['increment'] = data.prob_a - data.prob_b\n",
        "      data['increment'] = data.increment.multiply(0.05)\n",
        "      data['prob'] = data.prob_a + data.increment\n",
        "      data['char_freq'] = data.char_freq_a + data.char_freq_b\n",
        "      data = data.drop(columns = ['char_freq_a','char_freq_b','prob_a','prob_b','increment'])\n",
        "    return data\n",
        "\n",
        "  def char_run(self):\n",
        "    path = self.path\n",
        "    data = self.char_policy()\n",
        "    a = re.split('/',path)\n",
        "    name = re.split('\\.',a[-1])[0]\n",
        "    data = data[(data.prob > 0) & (data.char_freq > 10)]\n",
        "    data = data.sort_values(by = 'prob' ,ascending = False)\n",
        "    data['language'] = name\n",
        "    to_path = self.to_path()+'/'+'char_dict/'\n",
        "    data = dask_cudf.from_cudf(data,npartitions = 1)\n",
        "    data.to_parquet(to_path,write_index = False,compute = False).compute(scheduler = 'distributed')\n",
        "    return to_path"
      ]
    },
    {
      "cell_type": "markdown",
      "source": [
        "##build_word_dictionay\n"
      ],
      "metadata": {
        "id": "S9qAjKac2OQk"
      }
    },
    {
      "cell_type": "code",
      "source": [
        "class build_word_dictionary(read_data):\n",
        "  def __init__(self,path):                      \n",
        "    super().__init__(path)\n",
        "    self.path = path\n",
        "\n",
        "\n",
        "  def char(self):\n",
        "    path = self.path\n",
        "    data_path = read_data(path).to_path()+'/bow'\n",
        "    data = dask_cudf.read_parquet(data_path , write_index = False,columns = 'bag_of_words').explode(column = 'bag_of_words').sample(frac = 0.09)\n",
        "    char_freq = data.groupby('bag_of_words').bag_of_words.count()\n",
        "    char_table = char_freq.to_frame('freq')\n",
        "    char_table['prob'] = char_table.freq / char_table.freq.sum()\n",
        "    char_table = char_table.compute(scheduler = 'distributed')\n",
        "    char_table = char_table.reset_index(drop = False)\n",
        "    char_table = char_table.rename(columns ={'bag_of_words':'word','freq':'word_freq','prob':'prob'})\n",
        "    char_table = char_table.sort_values('prob',ascending = True)\n",
        "    return char_table\n",
        "\n",
        "  \n",
        "  def char_policy(self):\n",
        "    data = self.char()\n",
        "    for i in range(10):\n",
        "      data1 = self.char()\n",
        "      data = data.merge(data1,on = ['word'],how = 'outer',suffixes = ('_a','_b'))\n",
        "      data = data.fillna(0)\n",
        "      data['increment'] = data.prob_a - data.prob_b\n",
        "      data['increment'] = data.increment.multiply(0.05)\n",
        "      data['prob'] = data.prob_a + data.increment\n",
        "      data['word_freq'] = data.word_freq_a + data.word_freq_b\n",
        "      data = data.drop(columns = ['word_freq_a','word_freq_b','prob_a','prob_b','increment'])\n",
        "    return data\n",
        "\n",
        "  def word_run(self):\n",
        "    path = self.path\n",
        "    data = self.char_policy()\n",
        "    a = re.split('/',path)\n",
        "    name = re.split('\\.',a[-1])[0]\n",
        "    data = data[(data.prob > 0) & (data.word_freq > 20)]\n",
        "    data = data.sort_values(by = 'prob' ,ascending = False)\n",
        "    data['language'] = name\n",
        "    to_path = self.to_path()+'/'+'word_dict/'\n",
        "    data = dask_cudf.from_cudf(data,npartitions = 1)\n",
        "    data.to_parquet(to_path,write_index = False,compute = False).compute(scheduler = 'distributed')\n",
        "    return to_path"
      ],
      "metadata": {
        "id": "h6lGmpIh2TjE"
      },
      "execution_count": 26,
      "outputs": []
    },
    {
      "cell_type": "markdown",
      "metadata": {
        "id": "e11hjJxRaX26"
      },
      "source": [
        "##pre_process"
      ]
    },
    {
      "cell_type": "code",
      "execution_count": 19,
      "metadata": {
        "id": "XjHXbfaWaYMB"
      },
      "outputs": [],
      "source": [
        "class parse(read_data):\n",
        "  def __init__(self,path):                      \n",
        "    super().__init__(path)\n",
        "    self.path = path\n",
        "  def parser(self):\n",
        "    path = self.path\n",
        "    data_path = load_data(path).read_csv()\n",
        "    data = ditable.read_parquet(data_path,index = None,columns = ['content'])\n",
        "    #data = data.reset_index(drop = True)\n",
        "    dicti_path = build_char(path).char_run()\n",
        "    dicti = ditable.read_parquet(dicti_path,column = ['char']) \n",
        "    dicti = dicti.compute(scheduler = 'threads')  \n",
        "    dicti = dicti.char.to_dict() \n",
        "\n",
        "    def check_char(str_data):    \n",
        "      str_data = str_data\n",
        "      chk =[str_data[i].lower() for i in range(len(str_data))]\n",
        "      def filt(da):\n",
        "        if da in dicti.values():\n",
        "          return da\n",
        "        else: \n",
        "          return '[unkc]'\n",
        "      new_a = list(map(filt,chk))\n",
        "      num_unk = len([x for x in new_a if x == '[unkc]'])\n",
        "      num_chars = len(new_a)\n",
        "      if num_chars < 75 and num_unk/num_chars > 0.2:\n",
        "        new_a = ['missing']\n",
        "      else:\n",
        "        new_a = new_a\n",
        "\n",
        "      new_a = \"\".join(new_a)\n",
        "      return new_a\n",
        "    \n",
        "    def sanitary_check(stri):\n",
        "      stri = re.sub(r'(\\[unkc\\])+',\"[unkc]\",stri)\n",
        "      stri = re.sub(r'(^\\s)+','',stri)\n",
        "      stri = re.sub(r'(\\s){1,}',' ',stri)\n",
        "      return stri\n",
        "\n",
        "    data['clean_content'] = data.content.apply(check_char,meta = pd.Series(dtype = str))\n",
        "    data['clean_content'] = data.clean_content.apply(sanitary_check , meta = pd.Series(dtype = str))\n",
        "    data = data[(data.clean_content != ' ') & (data.clean_content != None)&(data.clean_content != 'missing')&(data.clean_content != '[unkc]')]\n",
        "    data = data.drop(columns = ['content'])\n",
        "    to_path = read_data(path).to_path()\n",
        "    to_path_content = to_path+'/'+'clean_content'\n",
        "    data = data.map_partitions(cudf.DataFrame.from_pandas)\n",
        "    data.to_parquet(to_path_content,write_index = False,compute = False).compute(scheduler = 'distributed')\n",
        "    return to_path_content"
      ]
    },
    {
      "cell_type": "markdown",
      "source": [
        "#Run for all languages"
      ],
      "metadata": {
        "id": "rZb4BwDhNXHm"
      }
    },
    {
      "cell_type": "code",
      "execution_count": null,
      "metadata": {
        "id": "2lQWVvQRbw_H"
      },
      "outputs": [],
      "source": [
        "%time eng = parse('/content/drive/My Drive/DataNew/prenglish.csv').parser()\n",
        "%time eng = build_vocab('/content/drive/My Drive/DataNew/prenglish.csv').master_run()\n",
        "%time eng = build_word_dictionary('/content/drive/My Drive/DataNew/prenglish.csv').word_run()"
      ]
    },
    {
      "cell_type": "code",
      "source": [
        "%time eng = parse('/content/drive/My Drive/DataNew/prodia.csv').parser()\n",
        "%time eng = build_vocab('/content/drive/My Drive/DataNew/prodia.csv').master_run()\n",
        "%time eng = build_word_dictionary('/content/drive/My Drive/DataNew/prodia.csv').word_run()"
      ],
      "metadata": {
        "id": "pl_qmJMDMi21"
      },
      "execution_count": null,
      "outputs": []
    },
    {
      "cell_type": "code",
      "source": [
        "%time eng = parse('/content/drive/My Drive/DataNew/prurdu.csv').parser()\n",
        "%time eng = build_vocab('/content/drive/My Drive/DataNew/prurdu.csv').master_run()\n",
        "%time eng = build_word_dictionary('/content/drive/My Drive/DataNew/prurdu.csv').word_run()"
      ],
      "metadata": {
        "id": "EV0J8PfhM0qd"
      },
      "execution_count": null,
      "outputs": []
    },
    {
      "cell_type": "code",
      "source": [
        "%time eng = parse('/content/drive/My Drive/DataNew/prpunjabi.csv').parser()\n",
        "%time eng = build_vocab('/content/drive/My Drive/DataNew/prpunjabi.csv').master_run()\n",
        "%time eng = build_word_dictionary('/content/drive/My Drive/DataNew/prpunjabi.csv').word_run()"
      ],
      "metadata": {
        "id": "Zl-l_h1OLXkZ"
      },
      "execution_count": null,
      "outputs": []
    },
    {
      "cell_type": "code",
      "source": [
        "%time eng = parse('/content/drive/My Drive/DataNew/prtamil.csv').parser()\n",
        "%time eng = build_vocab('/content/drive/My Drive/DataNew/prtamil.csv').master_run()\n",
        "%time eng = build_word_dictionary('/content/drive/My Drive/DataNew/prtamil.csv').word_run()"
      ],
      "metadata": {
        "id": "TdTq0XWxMlB6"
      },
      "execution_count": null,
      "outputs": []
    },
    {
      "cell_type": "code",
      "source": [
        "%time eng = parse('/content/drive/My Drive/DataNew/prmarathi.csv').parser()\n",
        "%time eng = build_vocab('/content/drive/My Drive/DataNew/prmarathi.csv').master_run()\n",
        "%time eng = build_word_dictionary('/content/drive/My Drive/DataNew/prmarathi.csv').word_run()"
      ],
      "metadata": {
        "id": "7ILpwMP6MmPV"
      },
      "execution_count": null,
      "outputs": []
    },
    {
      "cell_type": "code",
      "source": [
        "%time eng = parse('/content/drive/My Drive/DataNew/prbengali.csv').parser()\n",
        "%time eng = build_vocab('/content/drive/My Drive/DataNew/prbengali.csv').master_run()\n",
        "%time eng = build_word_dictionary('/content/drive/My Drive/DataNew/prbengali.csv').word_run()"
      ],
      "metadata": {
        "id": "vSiYQBFoMm3n"
      },
      "execution_count": null,
      "outputs": []
    },
    {
      "cell_type": "code",
      "source": [
        "%time eng = parse('/content/drive/My Drive/DataNew/prhindi.csv').parser()\n",
        "%time eng = build_vocab('/content/drive/My Drive/DataNew/prhindi.csv').master_run()\n",
        "%time eng = build_word_dictionary('/content/drive/My Drive/DataNew/prhindi.csv').word_run()"
      ],
      "metadata": {
        "id": "j4FUjMfTMnjy"
      },
      "execution_count": null,
      "outputs": []
    },
    {
      "cell_type": "code",
      "source": [
        "%time eng = parse('/content/drive/My Drive/DataNew/prmalyali.csv').parser()\n",
        "%time eng = build_vocab('/content/drive/My Drive/DataNew/prmalyali.csv').master_run()\n",
        "%time eng = build_word_dictionary('/content/drive/My Drive/DataNew/prmalyali.csv').word_run()"
      ],
      "metadata": {
        "id": "NPg8U3vdNN2d"
      },
      "execution_count": null,
      "outputs": []
    },
    {
      "cell_type": "markdown",
      "source": [
        "#rough_work"
      ],
      "metadata": {
        "id": "QWAzajUaNzhH"
      }
    },
    {
      "cell_type": "code",
      "execution_count": null,
      "metadata": {
        "id": "-3y7uzpfSoes"
      },
      "outputs": [],
      "source": [
        "list_files = glob.glob('/content/drive/My Drive/pre_processed_data_final/pr*/keys/*parquet')"
      ]
    },
    {
      "cell_type": "code",
      "execution_count": null,
      "metadata": {
        "colab": {
          "base_uri": "https://localhost:8080/"
        },
        "id": "ZVjwdfMBS58v",
        "outputId": "6fd4a0f2-830f-4079-fcd3-1d7a0b6dff2f"
      },
      "outputs": [
        {
          "data": {
            "text/plain": [
              "['/content/drive/My Drive/pre_processed_data_final/prenglish/keys/part.0.parquet',\n",
              " '/content/drive/My Drive/pre_processed_data_final/prodia/keys/part.0.parquet',\n",
              " '/content/drive/My Drive/pre_processed_data_final/prurdu/keys/part.0.parquet',\n",
              " '/content/drive/My Drive/pre_processed_data_final/prpunjabi/keys/part.0.parquet',\n",
              " '/content/drive/My Drive/pre_processed_data_final/prbengali/keys/part.0.parquet',\n",
              " '/content/drive/My Drive/pre_processed_data_final/prtamil/keys/part.0.parquet',\n",
              " '/content/drive/My Drive/pre_processed_data_final/prmarathi/keys/part.0.parquet',\n",
              " '/content/drive/My Drive/pre_processed_data_final/prhindi/keys/part.0.parquet',\n",
              " '/content/drive/My Drive/pre_processed_data_final/prmalyali/keys/part.0.parquet']"
            ]
          },
          "execution_count": 322,
          "metadata": {},
          "output_type": "execute_result"
        }
      ],
      "source": [
        "list_files"
      ]
    },
    {
      "cell_type": "code",
      "execution_count": null,
      "metadata": {
        "id": "zlwj2cVgX0Xa"
      },
      "outputs": [],
      "source": [
        "data = dask_cudf.read_parquet(list_files)"
      ]
    }
  ],
  "metadata": {
    "accelerator": "GPU",
    "colab": {
      "collapsed_sections": [
        "Pz0vRGgN4Srr",
        "Qipa97PBYRHv"
      ],
      "machine_shape": "hm",
      "name": "dependency_parsing.ipynb",
      "provenance": [],
      "include_colab_link": true
    },
    "gpuClass": "standard",
    "kernelspec": {
      "display_name": "Python 3",
      "name": "python3"
    },
    "language_info": {
      "name": "python"
    }
  },
  "nbformat": 4,
  "nbformat_minor": 0
}